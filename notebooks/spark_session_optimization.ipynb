{
 "cells": [
  {
   "cell_type": "code",
   "execution_count": null,
   "id": "initial_id",
   "metadata": {
    "collapsed": true
   },
   "outputs": [],
   "source": [
    ""
   ]
  },
  {
   "metadata": {
    "ExecuteTime": {
     "end_time": "2025-07-28T14:52:31.116880Z",
     "start_time": "2025-07-28T14:52:31.031255Z"
    }
   },
   "cell_type": "code",
   "source": [
    "from pyspark.sql import SparkSession\n",
    "from pyspark import SparkConf"
   ],
   "id": "72abfb962b4bbbd2",
   "outputs": [],
   "execution_count": 1
  },
  {
   "metadata": {
    "ExecuteTime": {
     "end_time": "2025-07-28T14:53:29.401798Z",
     "start_time": "2025-07-28T14:53:05.182256Z"
    }
   },
   "cell_type": "code",
   "source": [
    "\n",
    "# create a spark conf\n",
    "conf = SparkConf()\n",
    "\n",
    "conf.set(\"spark.master\", \"local[*]\")  # Use all available cores\n",
    "conf.set(\"spark.app.name\", \"OptimizedLocalSparkApp\")\n",
    "\n",
    "# MEMORY\n",
    "conf.set(\"spark.driver.memory\", \"4g\")                   # Heap memory\n",
    "conf.set(\"spark.driver.memoryOverhead\", \"1024\")          # Off-heap for native libs\n",
    "\n",
    "# GC TUNING\n",
    "conf.set(\"spark.executor.extraJavaOptions\",\n",
    "         \"-XX:+UseG1GC -XX:InitiatingHeapOccupancyPercent=35 -XX:+ExplicitGCInvokesConcurrent\")\n",
    "\n",
    "# OFF-HEAP (if using Arrow, Parquet, etc.)\n",
    "conf.set(\"spark.memory.offHeap.enabled\", \"true\")\n",
    "conf.set(\"spark.memory.offHeap.size\", \"1g\")\n",
    "\n",
    "# SERIALIZATION\n",
    "conf.set(\"spark.serializer\", \"org.apache.spark.serializer.KryoSerializer\")\n",
    "\n",
    "# SHUFFLE OPTIMIZATION\n",
    "conf.set(\"spark.shuffle.file.buffer\", \"1m\")\n",
    "conf.set(\"spark.reducer.maxSizeInFlight\", \"96m\")\n",
    "conf.set(\"spark.shuffle.io.preferDirectBufs\", \"true\")\n",
    "\n",
    "# PYTHON CONFIG\n",
    "conf.set(\"spark.python.worker.memory\", \"2g\")\n",
    "conf.set(\"spark.pyspark.python\", \"C:/Users/PLIU/Documents/git/SparkInternals/si_venv/Scripts/python.exe\")  # Replace with your Python path\n",
    "conf.set(\"spark.pyspark.driver.python\", \"C:/Users/PLIU/Documents/git/SparkInternals/si_venv/Scripts/python.exe\")\n",
    "\n",
    "# OPTIONAL: avoid memory leak from large broadcast variables\n",
    "conf.set(\"spark.cleaner.referenceTracking.blocking\", \"true\")\n",
    "\n",
    "spark = SparkSession.builder.config(conf=conf).getOrCreate()"
   ],
   "id": "fefd351808aefcdd",
   "outputs": [],
   "execution_count": 2
  },
  {
   "metadata": {},
   "cell_type": "code",
   "outputs": [],
   "execution_count": null,
   "source": "",
   "id": "539b7ccec0dc503d"
  }
 ],
 "metadata": {
  "kernelspec": {
   "display_name": "Python 3",
   "language": "python",
   "name": "python3"
  },
  "language_info": {
   "codemirror_mode": {
    "name": "ipython",
    "version": 2
   },
   "file_extension": ".py",
   "mimetype": "text/x-python",
   "name": "python",
   "nbconvert_exporter": "python",
   "pygments_lexer": "ipython2",
   "version": "2.7.6"
  }
 },
 "nbformat": 4,
 "nbformat_minor": 5
}
